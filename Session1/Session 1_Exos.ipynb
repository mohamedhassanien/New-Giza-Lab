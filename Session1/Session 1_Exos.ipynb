{
 "cells": [
  {
   "cell_type": "markdown",
   "id": "820abc5b-e78f-4c35-9d08-a4fe675dc053",
   "metadata": {},
   "source": [
    "## Exo 1"
   ]
  },
  {
   "cell_type": "markdown",
   "id": "28570502-5457-4dc9-b8fb-7146a111ec0d",
   "metadata": {},
   "source": [
    "### Problem: Write a Python script that uses the PorterStemmer to stem a list of words. Display the original words and their stemmed forms."
   ]
  },
  {
   "cell_type": "code",
   "execution_count": 8,
   "id": "12075573-93fc-4030-8eba-ccdf28098edc",
   "metadata": {},
   "outputs": [
    {
     "name": "stdout",
     "output_type": "stream",
     "text": [
      "Original: running, Stemmed: run\n",
      "Original: jumps, Stemmed: jump\n",
      "Original: easily, Stemmed: easili\n",
      "Original: faster, Stemmed: faster\n",
      "Original: runner, Stemmed: runner\n"
     ]
    }
   ],
   "source": []
  },
  {
   "cell_type": "markdown",
   "id": "f9c037ca-fe19-4c9d-8922-d505cc588653",
   "metadata": {},
   "source": [
    "## Exo 2"
   ]
  },
  {
   "cell_type": "markdown",
   "id": "ccb2a93e-8b87-46a4-8b6f-3c971a93b106",
   "metadata": {},
   "source": [
    "### Problem: Write a Python script that uses the WordNetLemmatizer to lemmatize a list of words, considering both nouns and verbs. Display the original words and their lemmatized forms. note that for pos n stands for noun and v for Verb"
   ]
  },
  {
   "cell_type": "code",
   "execution_count": 9,
   "id": "a957a11b-3b9d-49b7-a838-ec3aeff8fd67",
   "metadata": {},
   "outputs": [
    {
     "name": "stderr",
     "output_type": "stream",
     "text": [
      "[nltk_data] Downloading package wordnet to /home/mohamed/nltk_data...\n",
      "[nltk_data]   Package wordnet is already up-to-date!\n",
      "[nltk_data] Downloading package omw-1.4 to /home/mohamed/nltk_data...\n",
      "[nltk_data]   Package omw-1.4 is already up-to-date!\n"
     ]
    },
    {
     "name": "stdout",
     "output_type": "stream",
     "text": [
      "Original: running, Lemmatized (Verb): run, Lemmatized (Noun): running\n",
      "Original: jumps, Lemmatized (Verb): jump, Lemmatized (Noun): jump\n",
      "Original: leaves, Lemmatized (Verb): leave, Lemmatized (Noun): leaf\n",
      "Original: better, Lemmatized (Verb): better, Lemmatized (Noun): better\n",
      "Original: easily, Lemmatized (Verb): easily, Lemmatized (Noun): easily\n"
     ]
    }
   ],
   "source": []
  },
  {
   "cell_type": "markdown",
   "id": "36567406-6b0a-4040-b27c-76ffc4d7d2a5",
   "metadata": {},
   "source": [
    "## Exo 3"
   ]
  },
  {
   "cell_type": "markdown",
   "id": "2a0fbc56-9144-4018-84d8-f856a3c8a1ea",
   "metadata": {},
   "source": [
    "### Problem: Write a Python script that compares the results of stemming and lemmatization for a list of words. Analyze cases where the results differ significantly."
   ]
  },
  {
   "cell_type": "code",
   "execution_count": 10,
   "id": "a805533b-1e7e-48f4-b305-e5d83a839148",
   "metadata": {},
   "outputs": [
    {
     "name": "stdout",
     "output_type": "stream",
     "text": [
      "Original: running, Stemmed: run, Lemmatized: running\n",
      "Original: wolves, Stemmed: wolv, Lemmatized: wolf\n",
      "Original: studies, Stemmed: studi, Lemmatized: study\n",
      "Original: children, Stemmed: children, Lemmatized: child\n",
      "Original: better, Stemmed: better, Lemmatized: better\n",
      "Original: flying, Stemmed: fli, Lemmatized: flying\n"
     ]
    },
    {
     "name": "stderr",
     "output_type": "stream",
     "text": [
      "[nltk_data] Downloading package wordnet to /home/mohamed/nltk_data...\n",
      "[nltk_data]   Package wordnet is already up-to-date!\n",
      "[nltk_data] Downloading package omw-1.4 to /home/mohamed/nltk_data...\n",
      "[nltk_data]   Package omw-1.4 is already up-to-date!\n"
     ]
    }
   ],
   "source": []
  },
  {
   "cell_type": "markdown",
   "id": "6f05453a-e853-49ba-9dd9-d7d69fc49903",
   "metadata": {},
   "source": [
    "# POS Tagging"
   ]
  },
  {
   "cell_type": "markdown",
   "id": "3452e7b0-ccce-4e2e-b2b1-cc6f670e064f",
   "metadata": {},
   "source": [
    "## Exo 1"
   ]
  },
  {
   "cell_type": "markdown",
   "id": "ac5a1554-f648-4f2e-8777-b8cc509cca46",
   "metadata": {},
   "source": [
    "### Problem: Write a Python script that tags the parts of speech for each word in a simple sentence using spaCy. Display the word along with its POS tag."
   ]
  },
  {
   "cell_type": "code",
   "execution_count": 11,
   "id": "c2c0d737-ca04-4270-9838-ebba4874097b",
   "metadata": {},
   "outputs": [
    {
     "name": "stdout",
     "output_type": "stream",
     "text": [
      "The: DET\n",
      "quick: ADJ\n",
      "brown: ADJ\n",
      "fox: NOUN\n",
      "jumps: VERB\n",
      "over: ADP\n",
      "the: DET\n",
      "lazy: ADJ\n",
      "dog: NOUN\n",
      ".: PUNCT\n"
     ]
    }
   ],
   "source": []
  },
  {
   "cell_type": "markdown",
   "id": "915ab1d7-b5ee-4436-9d85-673e4b422fa3",
   "metadata": {},
   "source": [
    "## Exo 2"
   ]
  },
  {
   "cell_type": "markdown",
   "id": "d0b6d3df-9efc-4f8f-9f03-291d868e45fa",
   "metadata": {},
   "source": [
    "### Problem: Write a Python script that tags the parts of speech for each word in a paragraph using spaCy. Then, count how many nouns, verbs, adjectives, and adverbs are present in the paragraph."
   ]
  },
  {
   "cell_type": "code",
   "execution_count": 12,
   "id": "e93cce05-f42c-437d-97d7-298b6df31946",
   "metadata": {},
   "outputs": [
    {
     "name": "stdout",
     "output_type": "stream",
     "text": [
      "Nouns: 3, Verbs: 1, Adjectives: 5, Adverbs: 1\n"
     ]
    }
   ],
   "source": []
  },
  {
   "cell_type": "markdown",
   "id": "926aceb5-3123-4a28-a3b6-a5feb57c8011",
   "metadata": {},
   "source": [
    "## Exo 3"
   ]
  },
  {
   "cell_type": "markdown",
   "id": "62dc72f0-81aa-4cac-ba96-46f0a833ebb8",
   "metadata": {},
   "source": [
    "### Problem: Write a Python script that tags the parts of speech for each word in a sentence using spaCy. Then, extract and display all the nouns and verbs separately."
   ]
  },
  {
   "cell_type": "code",
   "execution_count": 11,
   "id": "1f6fff90-d532-4150-9bc6-d1363b32b5af",
   "metadata": {},
   "outputs": [],
   "source": [
    "sentence = \"The programmer quickly wrote code and fixed bugs in the software.\""
   ]
  },
  {
   "cell_type": "code",
   "execution_count": null,
   "id": "d4a30b06-7b61-4f82-adfa-f1f2f9e1405b",
   "metadata": {},
   "outputs": [],
   "source": []
  }
 ],
 "metadata": {
  "kernelspec": {
   "display_name": "Python 3 (ipykernel)",
   "language": "python",
   "name": "python3"
  },
  "language_info": {
   "codemirror_mode": {
    "name": "ipython",
    "version": 3
   },
   "file_extension": ".py",
   "mimetype": "text/x-python",
   "name": "python",
   "nbconvert_exporter": "python",
   "pygments_lexer": "ipython3",
   "version": "3.8.10"
  }
 },
 "nbformat": 4,
 "nbformat_minor": 5
}
