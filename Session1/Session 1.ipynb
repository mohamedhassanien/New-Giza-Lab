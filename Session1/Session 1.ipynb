{
 "cells": [
  {
   "cell_type": "markdown",
   "id": "2a3f2b9e-77d7-4771-ba48-7e1ea4686519",
   "metadata": {},
   "source": [
    "# REGEX"
   ]
  },
  {
   "cell_type": "markdown",
   "id": "ccb0e711-3ae0-466e-943f-cf17579b979a",
   "metadata": {},
   "source": [
    "## The \\w\n",
    "\n"
   ]
  },
  {
   "cell_type": "markdown",
   "id": "2c6b9a3d-b4a0-4f69-9c0e-dccb3b1a43c1",
   "metadata": {},
   "source": [
    "### \\w matches a single alphanumeric character at the start of the string.\n",
    "### \\w+ matches one or more alphanumeric characters (as a word) at the start of the string.\n",
    "### \\w* matches zero or more alphanumeric characters at the start of the string.\n",
    "### \\w{n} matches exactly n alphanumeric characters at the start of the string."
   ]
  },
  {
   "cell_type": "code",
   "execution_count": 15,
   "id": "6ea79bbf-4e12-4ca3-8efb-14ee4bec40b8",
   "metadata": {},
   "outputs": [
    {
     "data": {
      "text/plain": [
       "<re.Match object; span=(0, 1), match='h'>"
      ]
     },
     "execution_count": 15,
     "metadata": {},
     "output_type": "execute_result"
    }
   ],
   "source": [
    "word_regex='\\w'\n",
    "re.match(word_regex,'hi there!')"
   ]
  },
  {
   "cell_type": "code",
   "execution_count": 16,
   "id": "256f21c6-843f-4ffd-83cb-9a5d11f1cb3e",
   "metadata": {},
   "outputs": [
    {
     "data": {
      "text/plain": [
       "<re.Match object; span=(0, 2), match='hi'>"
      ]
     },
     "execution_count": 16,
     "metadata": {},
     "output_type": "execute_result"
    }
   ],
   "source": [
    "word_regex='\\w+'\n",
    "re.match(word_regex,'hi there!')"
   ]
  },
  {
   "cell_type": "code",
   "execution_count": 17,
   "id": "e786ace5-ac51-47fa-9e05-7579ed31d939",
   "metadata": {},
   "outputs": [
    {
     "data": {
      "text/plain": [
       "<re.Match object; span=(0, 2), match='hi'>"
      ]
     },
     "execution_count": 17,
     "metadata": {},
     "output_type": "execute_result"
    }
   ],
   "source": [
    "word_regex='\\w*'\n",
    "re.match(word_regex,'hi there!')"
   ]
  },
  {
   "cell_type": "code",
   "execution_count": 18,
   "id": "eabd0706-bbf4-421c-9f06-bd14179a4092",
   "metadata": {},
   "outputs": [
    {
     "data": {
      "text/plain": [
       "<re.Match object; span=(0, 2), match='hi'>"
      ]
     },
     "execution_count": 18,
     "metadata": {},
     "output_type": "execute_result"
    }
   ],
   "source": [
    "word_regex='\\w{2}'\n",
    "re.match(word_regex,'hi there!')"
   ]
  },
  {
   "cell_type": "code",
   "execution_count": 39,
   "id": "740321fc-b9d7-4b47-b896-bd3df168b5f6",
   "metadata": {},
   "outputs": [],
   "source": [
    "word_regex='\\w{5}'\n",
    "re.match(word_regex,'hi there!')"
   ]
  },
  {
   "cell_type": "code",
   "execution_count": 41,
   "id": "4cc2dfb8-0544-4d06-b1d7-084f78ae9ec4",
   "metadata": {},
   "outputs": [
    {
     "data": {
      "text/plain": [
       "<re.Match object; span=(3, 8), match='there'>"
      ]
     },
     "execution_count": 41,
     "metadata": {},
     "output_type": "execute_result"
    }
   ],
   "source": [
    "word_regex = r'\\w{5}'\n",
    "re.search(word_regex, 'hi there!')"
   ]
  },
  {
   "cell_type": "markdown",
   "id": "0d7363d6-6c93-48f4-9edf-daa44ecad9fd",
   "metadata": {},
   "source": [
    "## The \\d\n"
   ]
  },
  {
   "cell_type": "markdown",
   "id": "cd3c840c-6ad1-4664-803c-58485a70bc54",
   "metadata": {},
   "source": [
    "### \\d matches a single digit.\n",
    "### \\d+ matches one or more digits.\n",
    "### \\d* matches zero or more digits (including the empty string where no digits are present).\n",
    "### \\d{n} matches exactly n digits."
   ]
  },
  {
   "cell_type": "code",
   "execution_count": 43,
   "id": "e6c094c3-6281-4089-999a-bcf8d3c17530",
   "metadata": {},
   "outputs": [
    {
     "data": {
      "text/plain": [
       "<re.Match object; span=(10, 11), match='9'>"
      ]
     },
     "execution_count": 43,
     "metadata": {},
     "output_type": "execute_result"
    }
   ],
   "source": [
    "digit_regex='\\d'\n",
    "re.search(digit_regex,'I ordered 99 pizzas')"
   ]
  },
  {
   "cell_type": "code",
   "execution_count": 10,
   "id": "b7d7a3fe-6fed-44f7-a47a-2a374fc54609",
   "metadata": {},
   "outputs": [
    {
     "data": {
      "text/plain": [
       "['99']"
      ]
     },
     "execution_count": 10,
     "metadata": {},
     "output_type": "execute_result"
    }
   ],
   "source": [
    "digit_regex='\\d+'\n",
    "re.findall(digit_regex,'I ordered 99 pizzas')"
   ]
  },
  {
   "cell_type": "code",
   "execution_count": 11,
   "id": "43ecb733-7db0-404e-9f8a-a09101077e96",
   "metadata": {},
   "outputs": [
    {
     "data": {
      "text/plain": [
       "['', '', '', '', '', '', '', '', '', '', '99', '', '', '', '', '', '', '', '']"
      ]
     },
     "execution_count": 11,
     "metadata": {},
     "output_type": "execute_result"
    }
   ],
   "source": [
    "digit_regex='\\d*'\n",
    "re.findall(digit_regex,'I ordered 99 pizzas')"
   ]
  },
  {
   "cell_type": "code",
   "execution_count": 46,
   "id": "93029658-4f12-4007-bdb0-3303447f23e2",
   "metadata": {},
   "outputs": [
    {
     "data": {
      "text/plain": [
       "<re.Match object; span=(10, 12), match='99'>"
      ]
     },
     "execution_count": 46,
     "metadata": {},
     "output_type": "execute_result"
    }
   ],
   "source": [
    "digit_regex='\\d{2}'\n",
    "re.search(digit_regex,'I ordered 99 pizzas')"
   ]
  },
  {
   "cell_type": "code",
   "execution_count": 45,
   "id": "11e8d3e4-e864-46a8-b413-3b6a9d018f64",
   "metadata": {},
   "outputs": [
    {
     "data": {
      "text/plain": [
       "[]"
      ]
     },
     "execution_count": 45,
     "metadata": {},
     "output_type": "execute_result"
    }
   ],
   "source": [
    "digit_regex='\\d{4}'\n",
    "re.findall(digit_regex,'I ordered 99 pizzas')"
   ]
  },
  {
   "cell_type": "markdown",
   "id": "16f600bb-0980-45a5-9783-014d94d4ab8a",
   "metadata": {},
   "source": [
    "## Mixing Regex"
   ]
  },
  {
   "cell_type": "code",
   "execution_count": 49,
   "id": "e3323ef5-f019-4311-b8c1-317d56a3bebc",
   "metadata": {},
   "outputs": [],
   "source": [
    "my_string=\"Let's write RegEx!  Won't that be fun?  I sure think so.  Can you find 4 sentences?  Or perhaps, all 19 words?\""
   ]
  },
  {
   "cell_type": "code",
   "execution_count": 50,
   "id": "a934344d-6998-4cd5-ad7c-b34afbea42ed",
   "metadata": {},
   "outputs": [
    {
     "name": "stdout",
     "output_type": "stream",
     "text": [
      "[\"Let's write RegEx\", \"  Won't that be fun\", '  I sure think so', '  Can you find 4 sentences', '  Or perhaps, all 19 words', '']\n"
     ]
    }
   ],
   "source": [
    "# Split my_string on sentence endings and print the result\n",
    "sentence_endings = r\"[.?!]\"\n",
    "print(re.split(sentence_endings, my_string))\n"
   ]
  },
  {
   "cell_type": "code",
   "execution_count": 51,
   "id": "6696c60e-213d-4edc-8ae8-daf2c7078139",
   "metadata": {},
   "outputs": [
    {
     "name": "stdout",
     "output_type": "stream",
     "text": [
      "['Let', 'RegEx', 'Won', 'Can', 'Or']\n"
     ]
    }
   ],
   "source": [
    "# Find all capitalized words in my_string and print the result\n",
    "capitalized_words = r\"[A-Z]\\w+\"\n",
    "print(re.findall(capitalized_words, my_string))\n"
   ]
  },
  {
   "cell_type": "code",
   "execution_count": 52,
   "id": "ae3dfbd8-f94c-4e41-80b6-c251becc1af0",
   "metadata": {},
   "outputs": [
    {
     "name": "stdout",
     "output_type": "stream",
     "text": [
      "[\"Let's\", 'write', 'RegEx!', \"Won't\", 'that', 'be', 'fun?', 'I', 'sure', 'think', 'so.', 'Can', 'you', 'find', '4', 'sentences?', 'Or', 'perhaps,', 'all', '19', 'words?']\n"
     ]
    }
   ],
   "source": [
    "# Split my_string on spaces and print the result\n",
    "spaces = r\"\\s+\"\n",
    "print(re.split(spaces, my_string))\n",
    "\n"
   ]
  },
  {
   "cell_type": "code",
   "execution_count": 53,
   "id": "006b0604-2eea-4f5f-b4c0-cc70d6b12d0c",
   "metadata": {},
   "outputs": [
    {
     "name": "stdout",
     "output_type": "stream",
     "text": [
      "['4', '19']\n"
     ]
    }
   ],
   "source": [
    "# Find all digits in my_string and print the result\n",
    "digits = r\"\\d+\"\n",
    "print(re.findall(digits, my_string))\n"
   ]
  },
  {
   "cell_type": "markdown",
   "id": "51abf68c-cf52-4ede-9d36-8219ba83d046",
   "metadata": {},
   "source": [
    "# Tokenization\n",
    "### For tokenization we will use NLTK\n"
   ]
  },
  {
   "cell_type": "markdown",
   "id": "23d39425-f854-495a-82c2-d0e7fe53e6cb",
   "metadata": {},
   "source": [
    "## Basic tokenization"
   ]
  },
  {
   "cell_type": "code",
   "execution_count": 54,
   "id": "8680b3d8-10c0-44b7-8cfb-54ee37d35ae7",
   "metadata": {},
   "outputs": [],
   "source": [
    "scene_one=\"SCENE 1: [wind] [clop clop clop] \\nKING ARTHUR: Whoa there!  [clop clop clop] \\nSOLDIER #1: Halt!  Who goes there?\\nARTHUR: It is I, Arthur, son of Uther Pendragon, from the castle of Camelot.  King of the Britons, defeator of the Saxons, sovereign of all England!\\nSOLDIER #1: Pull the other one!\\nARTHUR: I am, ...  and this is my trusty servant Patsy.  We have ridden the length and breadth of the land in search of knights who will join me in my court at Camelot.  I must speak with your lord and master.\\nSOLDIER #1: What?  Ridden on a horse?\\nARTHUR: Yes!\\nSOLDIER #1: You're using coconuts!\\nARTHUR: What?\\nSOLDIER #1: You've got two empty halves of coconut and you're bangin' 'em together.\\nARTHUR: So?  We have ridden since the snows of winter covered this land, through the kingdom of Mercea, through--\\nSOLDIER #1: Where'd you get the coconuts?\\nARTHUR: We found them.\\nSOLDIER #1: Found them?  In Mercea?  The coconut's tropical!\\nARTHUR: What do you mean?\\nSOLDIER #1: Well, this is a temperate zone.\\nARTHUR: The swallow may fly south with the sun or the house martin or the plover may seek warmer climes in winter, yet these are not strangers to our land?\\nSOLDIER #1: Are you suggesting coconuts migrate?\\nARTHUR: Not at all.  They could be carried.\\nSOLDIER #1: What?  A swallow carrying a coconut?\\nARTHUR: It could grip it by the husk!\\nSOLDIER #1: It's not a question of where he grips it!  It's a simple question of weight ratios!  A five ounce bird could not carry a one pound coconut.\\nARTHUR: Well, it doesn't matter.  Will you go and tell your master that Arthur from the Court of Camelot is here.\\nSOLDIER #1: Listen.  In order to maintain air-speed velocity, a swallow needs to beat its wings forty-three times every second, right?\\nARTHUR: Please!\\nSOLDIER #1: Am I right?\\nARTHUR: I'm not interested!\\nSOLDIER #2: It could be carried by an African swallow!\\nSOLDIER #1: Oh, yeah, an African swallow maybe, but not a European swallow.  That's my point.\\nSOLDIER #2: Oh, yeah, I agree with that.\\nARTHUR: Will you ask your master if he wants to join my court at Camelot?!\\nSOLDIER #1: But then of course a-- African swallows are non-migratory.\\nSOLDIER #2: Oh, yeah...\\nSOLDIER #1: So they couldn't bring a coconut back anyway...  [clop clop clop] \\nSOLDIER #2: Wait a minute!  Supposing two swallows carried it together?\\nSOLDIER #1: No, they'd have to have it on a line.\\nSOLDIER #2: Well, simple!  They'd just use a strand of creeper!\\nSOLDIER #1: What, held under the dorsal guiding feathers?\\nSOLDIER #2: Well, why not?\\n\""
   ]
  },
  {
   "cell_type": "code",
   "execution_count": 55,
   "id": "5a85461f-1786-4042-b8ab-93951bf4e623",
   "metadata": {},
   "outputs": [
    {
     "data": {
      "text/plain": [
       "\"SCENE 1: [wind] [clop clop clop] \\nKING ARTHUR: Whoa there!  [clop clop clop] \\nSOLDIER #1: Halt!  Who goes there?\\nARTHUR: It is I, Arthur, son of Uther Pendragon, from the castle of Camelot.  King of the Britons, defeator of the Saxons, sovereign of all England!\\nSOLDIER #1: Pull the other one!\\nARTHUR: I am, ...  and this is my trusty servant Patsy.  We have ridden the length and breadth of the land in search of knights who will join me in my court at Camelot.  I must speak with your lord and master.\\nSOLDIER #1: What?  Ridden on a horse?\\nARTHUR: Yes!\\nSOLDIER #1: You're using coconuts!\\nARTHUR: What?\\nSOLDIER #1: You've got two empty halves of coconut and you're bangin' 'em together.\\nARTHUR: So?  We have ridden since the snows of winter covered this land, through the kingdom of Mercea, through--\\nSOLDIER #1: Where'd you get the coconuts?\\nARTHUR: We found them.\\nSOLDIER #1: Found them?  In Mercea?  The coconut's tropical!\\nARTHUR: What do you mean?\\nSOLDIER #1: Well, this is a temperate zone.\\nARTHUR: The swallow may fly south with the sun or the house martin or the plover may seek warmer climes in winter, yet these are not strangers to our land?\\nSOLDIER #1: Are you suggesting coconuts migrate?\\nARTHUR: Not at all.  They could be carried.\\nSOLDIER #1: What?  A swallow carrying a coconut?\\nARTHUR: It could grip it by the husk!\\nSOLDIER #1: It's not a question of where he grips it!  It's a simple question of weight ratios!  A five ounce bird could not carry a one pound coconut.\\nARTHUR: Well, it doesn't matter.  Will you go and tell your master that Arthur from the Court of Camelot is here.\\nSOLDIER #1: Listen.  In order to maintain air-speed velocity, a swallow needs to beat its wings forty-three times every second, right?\\nARTHUR: Please!\\nSOLDIER #1: Am I right?\\nARTHUR: I'm not interested!\\nSOLDIER #2: It could be carried by an African swallow!\\nSOLDIER #1: Oh, yeah, an African swallow maybe, but not a European swallow.  That's my point.\\nSOLDIER #2: Oh, yeah, I agree with that.\\nARTHUR: Will you ask your master if he wants to join my court at Camelot?!\\nSOLDIER #1: But then of course a-- African swallows are non-migratory.\\nSOLDIER #2: Oh, yeah...\\nSOLDIER #1: So they couldn't bring a coconut back anyway...  [clop clop clop] \\nSOLDIER #2: Wait a minute!  Supposing two swallows carried it together?\\nSOLDIER #1: No, they'd have to have it on a line.\\nSOLDIER #2: Well, simple!  They'd just use a strand of creeper!\\nSOLDIER #1: What, held under the dorsal guiding feathers?\\nSOLDIER #2: Well, why not?\\n\""
      ]
     },
     "execution_count": 55,
     "metadata": {},
     "output_type": "execute_result"
    }
   ],
   "source": [
    "scene_one"
   ]
  },
  {
   "cell_type": "code",
   "execution_count": 63,
   "id": "6051e18e-a36a-4a2d-bd91-e0d2c34c215b",
   "metadata": {},
   "outputs": [
    {
     "name": "stderr",
     "output_type": "stream",
     "text": [
      "[nltk_data] Downloading package punkt_tab to\n",
      "[nltk_data]     /home/mohamed/nltk_data...\n",
      "[nltk_data]   Unzipping tokenizers/punkt_tab.zip.\n"
     ]
    },
    {
     "data": {
      "text/plain": [
       "True"
      ]
     },
     "execution_count": 63,
     "metadata": {},
     "output_type": "execute_result"
    }
   ],
   "source": [
    "# Import necessary modules\n",
    "import nltk\n",
    "from nltk.tokenize import sent_tokenize \n",
    "from nltk.tokenize import word_tokenize \n",
    "nltk.download('punkt_tab')"
   ]
  },
  {
   "cell_type": "code",
   "execution_count": 64,
   "id": "d5bac39d-4374-4d3b-84f4-21e696e773d0",
   "metadata": {},
   "outputs": [
    {
     "name": "stdout",
     "output_type": "stream",
     "text": [
      "['SCENE 1: [wind] [clop clop clop] \\nKING ARTHUR: Whoa there!', '[clop clop clop] \\nSOLDIER #1: Halt!', 'Who goes there?', 'ARTHUR: It is I, Arthur, son of Uther Pendragon, from the castle of Camelot.', 'King of the Britons, defeator of the Saxons, sovereign of all England!', 'SOLDIER #1: Pull the other one!', 'ARTHUR: I am, ...  and this is my trusty servant Patsy.', 'We have ridden the length and breadth of the land in search of knights who will join me in my court at Camelot.', 'I must speak with your lord and master.', 'SOLDIER #1: What?', 'Ridden on a horse?', 'ARTHUR: Yes!', \"SOLDIER #1: You're using coconuts!\", 'ARTHUR: What?', \"SOLDIER #1: You've got two empty halves of coconut and you're bangin' 'em together.\", 'ARTHUR: So?', \"We have ridden since the snows of winter covered this land, through the kingdom of Mercea, through--\\nSOLDIER #1: Where'd you get the coconuts?\", 'ARTHUR: We found them.', 'SOLDIER #1: Found them?', 'In Mercea?', \"The coconut's tropical!\", 'ARTHUR: What do you mean?', 'SOLDIER #1: Well, this is a temperate zone.', 'ARTHUR: The swallow may fly south with the sun or the house martin or the plover may seek warmer climes in winter, yet these are not strangers to our land?', 'SOLDIER #1: Are you suggesting coconuts migrate?', 'ARTHUR: Not at all.', 'They could be carried.', 'SOLDIER #1: What?', 'A swallow carrying a coconut?', 'ARTHUR: It could grip it by the husk!', \"SOLDIER #1: It's not a question of where he grips it!\", \"It's a simple question of weight ratios!\", 'A five ounce bird could not carry a one pound coconut.', \"ARTHUR: Well, it doesn't matter.\", 'Will you go and tell your master that Arthur from the Court of Camelot is here.', 'SOLDIER #1: Listen.', 'In order to maintain air-speed velocity, a swallow needs to beat its wings forty-three times every second, right?', 'ARTHUR: Please!', 'SOLDIER #1: Am I right?', \"ARTHUR: I'm not interested!\", 'SOLDIER #2: It could be carried by an African swallow!', 'SOLDIER #1: Oh, yeah, an African swallow maybe, but not a European swallow.', \"That's my point.\", 'SOLDIER #2: Oh, yeah, I agree with that.', 'ARTHUR: Will you ask your master if he wants to join my court at Camelot?!', 'SOLDIER #1: But then of course a-- African swallows are non-migratory.', 'SOLDIER #2: Oh, yeah...', \"SOLDIER #1: So they couldn't bring a coconut back anyway...  [clop clop clop] \\nSOLDIER #2: Wait a minute!\", 'Supposing two swallows carried it together?', \"SOLDIER #1: No, they'd have to have it on a line.\", 'SOLDIER #2: Well, simple!', \"They'd just use a strand of creeper!\", 'SOLDIER #1: What, held under the dorsal guiding feathers?', 'SOLDIER #2: Well, why not?']\n"
     ]
    }
   ],
   "source": [
    "# Split scene_one into sentences: sentences\n",
    "sentences = sent_tokenize(scene_one)\n",
    "print(sentences)"
   ]
  },
  {
   "cell_type": "code",
   "execution_count": 65,
   "id": "e54d22af-28ae-454a-9b74-3e8bd388a1ed",
   "metadata": {},
   "outputs": [
    {
     "name": "stdout",
     "output_type": "stream",
     "text": [
      "['ARTHUR', ':', 'It', 'is', 'I', ',', 'Arthur', ',', 'son', 'of', 'Uther', 'Pendragon', ',', 'from', 'the', 'castle', 'of', 'Camelot', '.']\n"
     ]
    }
   ],
   "source": [
    "# Use word_tokenize to tokenize the fourth sentence: tokenized_sent\n",
    "tokenized_sent = word_tokenize(sentences[3])\n",
    "print(tokenized_sent)"
   ]
  },
  {
   "cell_type": "code",
   "execution_count": 67,
   "id": "65b89e9a-868f-4487-8efe-f7da5bb78d4d",
   "metadata": {},
   "outputs": [
    {
     "name": "stdout",
     "output_type": "stream",
     "text": [
      "['SCENE', '1', ':', '[', 'wind', ']', '[', 'clop', 'clop', 'clop', ']', 'KING', 'ARTHUR', ':', 'Whoa', 'there', '!', '[', 'clop', 'clop', 'clop', ']', 'SOLDIER', '#', '1', ':', 'Halt', '!', 'Who', 'goes', 'there', '?', 'ARTHUR', ':', 'It', 'is', 'I', ',', 'Arthur', ',', 'son', 'of', 'Uther', 'Pendragon', ',', 'from', 'the', 'castle', 'of', 'Camelot', '.', 'King', 'of', 'the', 'Britons', ',', 'defeator', 'of', 'the', 'Saxons', ',', 'sovereign', 'of', 'all', 'England', '!', 'SOLDIER', '#', '1', ':', 'Pull', 'the', 'other', 'one', '!', 'ARTHUR', ':', 'I', 'am', ',', '...', 'and', 'this', 'is', 'my', 'trusty', 'servant', 'Patsy', '.', 'We', 'have', 'ridden', 'the', 'length', 'and', 'breadth', 'of', 'the', 'land', 'in', 'search', 'of', 'knights', 'who', 'will', 'join', 'me', 'in', 'my', 'court', 'at', 'Camelot', '.', 'I', 'must', 'speak', 'with', 'your', 'lord', 'and', 'master', '.', 'SOLDIER', '#', '1', ':', 'What', '?', 'Ridden', 'on', 'a', 'horse', '?', 'ARTHUR', ':', 'Yes', '!', 'SOLDIER', '#', '1', ':', 'You', \"'re\", 'using', 'coconuts', '!', 'ARTHUR', ':', 'What', '?', 'SOLDIER', '#', '1', ':', 'You', \"'ve\", 'got', 'two', 'empty', 'halves', 'of', 'coconut', 'and', 'you', \"'re\", 'bangin', \"'\", \"'em\", 'together', '.', 'ARTHUR', ':', 'So', '?', 'We', 'have', 'ridden', 'since', 'the', 'snows', 'of', 'winter', 'covered', 'this', 'land', ',', 'through', 'the', 'kingdom', 'of', 'Mercea', ',', 'through', '--', 'SOLDIER', '#', '1', ':', 'Where', \"'d\", 'you', 'get', 'the', 'coconuts', '?', 'ARTHUR', ':', 'We', 'found', 'them', '.', 'SOLDIER', '#', '1', ':', 'Found', 'them', '?', 'In', 'Mercea', '?', 'The', 'coconut', \"'s\", 'tropical', '!', 'ARTHUR', ':', 'What', 'do', 'you', 'mean', '?', 'SOLDIER', '#', '1', ':', 'Well', ',', 'this', 'is', 'a', 'temperate', 'zone', '.', 'ARTHUR', ':', 'The', 'swallow', 'may', 'fly', 'south', 'with', 'the', 'sun', 'or', 'the', 'house', 'martin', 'or', 'the', 'plover', 'may', 'seek', 'warmer', 'climes', 'in', 'winter', ',', 'yet', 'these', 'are', 'not', 'strangers', 'to', 'our', 'land', '?', 'SOLDIER', '#', '1', ':', 'Are', 'you', 'suggesting', 'coconuts', 'migrate', '?', 'ARTHUR', ':', 'Not', 'at', 'all', '.', 'They', 'could', 'be', 'carried', '.', 'SOLDIER', '#', '1', ':', 'What', '?', 'A', 'swallow', 'carrying', 'a', 'coconut', '?', 'ARTHUR', ':', 'It', 'could', 'grip', 'it', 'by', 'the', 'husk', '!', 'SOLDIER', '#', '1', ':', 'It', \"'s\", 'not', 'a', 'question', 'of', 'where', 'he', 'grips', 'it', '!', 'It', \"'s\", 'a', 'simple', 'question', 'of', 'weight', 'ratios', '!', 'A', 'five', 'ounce', 'bird', 'could', 'not', 'carry', 'a', 'one', 'pound', 'coconut', '.', 'ARTHUR', ':', 'Well', ',', 'it', 'does', \"n't\", 'matter', '.', 'Will', 'you', 'go', 'and', 'tell', 'your', 'master', 'that', 'Arthur', 'from', 'the', 'Court', 'of', 'Camelot', 'is', 'here', '.', 'SOLDIER', '#', '1', ':', 'Listen', '.', 'In', 'order', 'to', 'maintain', 'air-speed', 'velocity', ',', 'a', 'swallow', 'needs', 'to', 'beat', 'its', 'wings', 'forty-three', 'times', 'every', 'second', ',', 'right', '?', 'ARTHUR', ':', 'Please', '!', 'SOLDIER', '#', '1', ':', 'Am', 'I', 'right', '?', 'ARTHUR', ':', 'I', \"'m\", 'not', 'interested', '!', 'SOLDIER', '#', '2', ':', 'It', 'could', 'be', 'carried', 'by', 'an', 'African', 'swallow', '!', 'SOLDIER', '#', '1', ':', 'Oh', ',', 'yeah', ',', 'an', 'African', 'swallow', 'maybe', ',', 'but', 'not', 'a', 'European', 'swallow', '.', 'That', \"'s\", 'my', 'point', '.', 'SOLDIER', '#', '2', ':', 'Oh', ',', 'yeah', ',', 'I', 'agree', 'with', 'that', '.', 'ARTHUR', ':', 'Will', 'you', 'ask', 'your', 'master', 'if', 'he', 'wants', 'to', 'join', 'my', 'court', 'at', 'Camelot', '?', '!', 'SOLDIER', '#', '1', ':', 'But', 'then', 'of', 'course', 'a', '--', 'African', 'swallows', 'are', 'non-migratory', '.', 'SOLDIER', '#', '2', ':', 'Oh', ',', 'yeah', '...', 'SOLDIER', '#', '1', ':', 'So', 'they', 'could', \"n't\", 'bring', 'a', 'coconut', 'back', 'anyway', '...', '[', 'clop', 'clop', 'clop', ']', 'SOLDIER', '#', '2', ':', 'Wait', 'a', 'minute', '!', 'Supposing', 'two', 'swallows', 'carried', 'it', 'together', '?', 'SOLDIER', '#', '1', ':', 'No', ',', 'they', \"'d\", 'have', 'to', 'have', 'it', 'on', 'a', 'line', '.', 'SOLDIER', '#', '2', ':', 'Well', ',', 'simple', '!', 'They', \"'d\", 'just', 'use', 'a', 'strand', 'of', 'creeper', '!', 'SOLDIER', '#', '1', ':', 'What', ',', 'held', 'under', 'the', 'dorsal', 'guiding', 'feathers', '?', 'SOLDIER', '#', '2', ':', 'Well', ',', 'why', 'not', '?']\n"
     ]
    }
   ],
   "source": [
    "# Make a set of unique tokens in the entire scene: unique_tokens\n",
    "unique_tokens = word_tokenize(scene_one)\n",
    "print(unique_tokens)"
   ]
  },
  {
   "cell_type": "markdown",
   "id": "f62448b7-afb8-4bf5-a676-d139736b10a3",
   "metadata": {},
   "source": [
    "## Mixing Regex with Tokenization"
   ]
  },
  {
   "cell_type": "code",
   "execution_count": 71,
   "id": "c40b343e-65c9-41ac-8f0a-705fc1ed842a",
   "metadata": {},
   "outputs": [],
   "source": [
    "from nltk.tokenize import regexp_tokenize\n",
    "from nltk.tokenize import TweetTokenizer"
   ]
  },
  {
   "cell_type": "code",
   "execution_count": 72,
   "id": "0bec6bfd-8d44-4bbc-92b5-5eeb8a029efb",
   "metadata": {},
   "outputs": [],
   "source": [
    "tweets=['This is the best #nlp exercise ive found online! #python',\n",
    " '#NLP is super fun! <3 #learning',\n",
    " 'Thanks @MohamedHassanien :) #nlp #python']"
   ]
  },
  {
   "cell_type": "code",
   "execution_count": 73,
   "id": "d3978ad9-39e9-4500-ab79-871035700c3b",
   "metadata": {},
   "outputs": [],
   "source": [
    "# Define a regex pattern to find hashtags: pattern1\n",
    "pattern1 = r\"#\\w+\""
   ]
  },
  {
   "cell_type": "code",
   "execution_count": 74,
   "id": "565cbbfb-0e22-40fb-b0b3-153abc27fbbb",
   "metadata": {},
   "outputs": [
    {
     "name": "stdout",
     "output_type": "stream",
     "text": [
      "['#nlp', '#python']\n"
     ]
    }
   ],
   "source": [
    "# Use the pattern on the first tweet in the tweets list\n",
    "hashtags = regexp_tokenize(tweets[0], pattern1)\n",
    "print(hashtags)"
   ]
  },
  {
   "cell_type": "code",
   "execution_count": 75,
   "id": "1731df93-047f-4dd3-8e28-ba56f3090c16",
   "metadata": {},
   "outputs": [],
   "source": [
    "# Define a regex pattern to find mentions: pattern2\n",
    "pattern2 = r\"@\\w+\""
   ]
  },
  {
   "cell_type": "code",
   "execution_count": 77,
   "id": "3b629426-f47e-45ec-8994-f9ca8c1273d6",
   "metadata": {},
   "outputs": [
    {
     "name": "stdout",
     "output_type": "stream",
     "text": [
      "['@MohamedHassanien']\n"
     ]
    }
   ],
   "source": [
    "# Use the pattern on the first tweet in the tweets list\n",
    "mentions = regexp_tokenize(tweets[2], pattern2)\n",
    "print(mentions)"
   ]
  },
  {
   "cell_type": "code",
   "execution_count": 78,
   "id": "de508259-f3ea-4fa7-a43a-307963e7d538",
   "metadata": {},
   "outputs": [],
   "source": [
    "# Write a pattern that matches both mentions (@) and hashtags\n",
    "pattern3 = r\"([\\@\\#]\\w+)\""
   ]
  },
  {
   "cell_type": "code",
   "execution_count": 79,
   "id": "ad303c10-e20f-4287-bd56-514bfc3c5293",
   "metadata": {},
   "outputs": [
    {
     "name": "stdout",
     "output_type": "stream",
     "text": [
      "['@MohamedHassanien', '#nlp', '#python']\n"
     ]
    }
   ],
   "source": [
    "# Use the pattern on the last tweet in the tweets list\n",
    "mentions_hashtags = regexp_tokenize(tweets[2], pattern3)\n",
    "print(mentions_hashtags)"
   ]
  },
  {
   "cell_type": "code",
   "execution_count": 80,
   "id": "705845fa-76e0-40ac-9d54-d1536038e1f2",
   "metadata": {},
   "outputs": [
    {
     "name": "stdout",
     "output_type": "stream",
     "text": [
      "[['This', 'is', 'the', 'best', '#nlp', 'exercise', 'ive', 'found', 'online', '!', '#python'], ['#NLP', 'is', 'super', 'fun', '!', '<3', '#learning'], ['Thanks', '@MohamedHassanien', ':)', '#nlp', '#python']]\n"
     ]
    }
   ],
   "source": [
    "# Use the TweetTokenizer to tokenize all tweets into one list\n",
    "tknzr = TweetTokenizer()\n",
    "all_tokens = [tknzr.tokenize(t) for t in tweets]\n",
    "print(all_tokens)"
   ]
  },
  {
   "cell_type": "markdown",
   "id": "9ff8acfd-6057-4892-b890-20c8df9dcf92",
   "metadata": {},
   "source": [
    "## Non-Ascii Tokenization"
   ]
  },
  {
   "cell_type": "code",
   "execution_count": 81,
   "id": "cdbd9454-88f8-49c5-ae1b-b8695ff5cd9a",
   "metadata": {},
   "outputs": [],
   "source": [
    "german_text='Wann gehen wir Pizza essen? 🍕 Und fährst du mit Über? 🚕'"
   ]
  },
  {
   "cell_type": "code",
   "execution_count": 82,
   "id": "fff118fc-9389-4bd1-ba3c-1cebfbe4cbd4",
   "metadata": {},
   "outputs": [
    {
     "name": "stdout",
     "output_type": "stream",
     "text": [
      "['Wann', 'gehen', 'wir', 'Pizza', 'essen', '?', '🍕', 'Und', 'fährst', 'du', 'mit', 'Über', '?', '🚕']\n"
     ]
    }
   ],
   "source": [
    "# Tokenize and print all words in german_text\n",
    "all_words = word_tokenize(german_text)\n",
    "print(all_words)"
   ]
  },
  {
   "cell_type": "code",
   "execution_count": 83,
   "id": "c5ee2aaa-d996-4716-ac11-e35a774cc62d",
   "metadata": {},
   "outputs": [
    {
     "name": "stdout",
     "output_type": "stream",
     "text": [
      "['Wann', 'Pizza', 'Und', 'Über']\n"
     ]
    }
   ],
   "source": [
    "# Tokenize and print only capital words\n",
    "capital_words = r\"[A-ZÜ]\\w+\"\n",
    "print(regexp_tokenize(german_text, capital_words))\n"
   ]
  },
  {
   "cell_type": "code",
   "execution_count": 84,
   "id": "29ba2653-ee79-4368-bfdf-60645b829ee7",
   "metadata": {},
   "outputs": [
    {
     "name": "stdout",
     "output_type": "stream",
     "text": [
      "['🍕', '🚕']\n"
     ]
    }
   ],
   "source": [
    "# Tokenize and print only emoji\n",
    "emoji = \"['\\U0001F300-\\U0001F5FF'|'\\U0001F600-\\U0001F64F'|'\\U0001F680-\\U0001F6FF'|'\\u2600-\\u26FF\\u2700-\\u27BF']\"\n",
    "print(regexp_tokenize(german_text, emoji))"
   ]
  },
  {
   "cell_type": "markdown",
   "id": "ddfed989-5791-477d-af02-467e21980d10",
   "metadata": {},
   "source": [
    "# Stemming and Lemmatization"
   ]
  },
  {
   "cell_type": "markdown",
   "id": "3ab9e3ce-5dad-413e-ab8a-10440fa32508",
   "metadata": {},
   "source": [
    "## Normal Stemming and Lemmatization"
   ]
  },
  {
   "cell_type": "code",
   "execution_count": 93,
   "id": "41740f44-fa09-4d6c-956d-3e8e3667b439",
   "metadata": {},
   "outputs": [
    {
     "name": "stderr",
     "output_type": "stream",
     "text": [
      "[nltk_data] Downloading package wordnet to /home/mohamed/nltk_data...\n"
     ]
    },
    {
     "data": {
      "text/plain": [
       "True"
      ]
     },
     "execution_count": 93,
     "metadata": {},
     "output_type": "execute_result"
    }
   ],
   "source": [
    "# Import the required packages from nltk\n",
    "from nltk.stem import PorterStemmer, WordNetLemmatizer\n",
    "from nltk import word_tokenize\n",
    "nltk.download('wordnet')"
   ]
  },
  {
   "cell_type": "code",
   "execution_count": 88,
   "id": "221d94fd-7037-44a9-96ce-d83359f958f3",
   "metadata": {},
   "outputs": [],
   "source": [
    "#Define our stemmer and our lemmatizer\n",
    "porter = PorterStemmer()\n",
    "WNlemmatizer = WordNetLemmatizer()"
   ]
  },
  {
   "cell_type": "code",
   "execution_count": 89,
   "id": "129c8bbd-1f95-471c-b4b4-b3cf4c367337",
   "metadata": {},
   "outputs": [],
   "source": [
    "# Tokenize the GoT string\n",
    "tokens = word_tokenize(scene_one) "
   ]
  },
  {
   "cell_type": "code",
   "execution_count": 90,
   "id": "49b1a314-ecd0-4439-ac7f-81f34279b1c3",
   "metadata": {},
   "outputs": [
    {
     "data": {
      "text/plain": [
       "['SCENE',\n",
       " '1',\n",
       " ':',\n",
       " '[',\n",
       " 'wind',\n",
       " ']',\n",
       " '[',\n",
       " 'clop',\n",
       " 'clop',\n",
       " 'clop',\n",
       " ']',\n",
       " 'KING',\n",
       " 'ARTHUR',\n",
       " ':',\n",
       " 'Whoa',\n",
       " 'there',\n",
       " '!',\n",
       " '[',\n",
       " 'clop',\n",
       " 'clop',\n",
       " 'clop',\n",
       " ']',\n",
       " 'SOLDIER',\n",
       " '#',\n",
       " '1',\n",
       " ':',\n",
       " 'Halt',\n",
       " '!',\n",
       " 'Who',\n",
       " 'goes',\n",
       " 'there',\n",
       " '?',\n",
       " 'ARTHUR',\n",
       " ':',\n",
       " 'It',\n",
       " 'is',\n",
       " 'I',\n",
       " ',',\n",
       " 'Arthur',\n",
       " ',',\n",
       " 'son',\n",
       " 'of',\n",
       " 'Uther',\n",
       " 'Pendragon',\n",
       " ',',\n",
       " 'from',\n",
       " 'the',\n",
       " 'castle',\n",
       " 'of',\n",
       " 'Camelot',\n",
       " '.',\n",
       " 'King',\n",
       " 'of',\n",
       " 'the',\n",
       " 'Britons',\n",
       " ',',\n",
       " 'defeator',\n",
       " 'of',\n",
       " 'the',\n",
       " 'Saxons',\n",
       " ',',\n",
       " 'sovereign',\n",
       " 'of',\n",
       " 'all',\n",
       " 'England',\n",
       " '!',\n",
       " 'SOLDIER',\n",
       " '#',\n",
       " '1',\n",
       " ':',\n",
       " 'Pull',\n",
       " 'the',\n",
       " 'other',\n",
       " 'one',\n",
       " '!',\n",
       " 'ARTHUR',\n",
       " ':',\n",
       " 'I',\n",
       " 'am',\n",
       " ',',\n",
       " '...',\n",
       " 'and',\n",
       " 'this',\n",
       " 'is',\n",
       " 'my',\n",
       " 'trusty',\n",
       " 'servant',\n",
       " 'Patsy',\n",
       " '.',\n",
       " 'We',\n",
       " 'have',\n",
       " 'ridden',\n",
       " 'the',\n",
       " 'length',\n",
       " 'and',\n",
       " 'breadth',\n",
       " 'of',\n",
       " 'the',\n",
       " 'land',\n",
       " 'in',\n",
       " 'search',\n",
       " 'of',\n",
       " 'knights',\n",
       " 'who',\n",
       " 'will',\n",
       " 'join',\n",
       " 'me',\n",
       " 'in',\n",
       " 'my',\n",
       " 'court',\n",
       " 'at',\n",
       " 'Camelot',\n",
       " '.',\n",
       " 'I',\n",
       " 'must',\n",
       " 'speak',\n",
       " 'with',\n",
       " 'your',\n",
       " 'lord',\n",
       " 'and',\n",
       " 'master',\n",
       " '.',\n",
       " 'SOLDIER',\n",
       " '#',\n",
       " '1',\n",
       " ':',\n",
       " 'What',\n",
       " '?',\n",
       " 'Ridden',\n",
       " 'on',\n",
       " 'a',\n",
       " 'horse',\n",
       " '?',\n",
       " 'ARTHUR',\n",
       " ':',\n",
       " 'Yes',\n",
       " '!',\n",
       " 'SOLDIER',\n",
       " '#',\n",
       " '1',\n",
       " ':',\n",
       " 'You',\n",
       " \"'re\",\n",
       " 'using',\n",
       " 'coconuts',\n",
       " '!',\n",
       " 'ARTHUR',\n",
       " ':',\n",
       " 'What',\n",
       " '?',\n",
       " 'SOLDIER',\n",
       " '#',\n",
       " '1',\n",
       " ':',\n",
       " 'You',\n",
       " \"'ve\",\n",
       " 'got',\n",
       " 'two',\n",
       " 'empty',\n",
       " 'halves',\n",
       " 'of',\n",
       " 'coconut',\n",
       " 'and',\n",
       " 'you',\n",
       " \"'re\",\n",
       " 'bangin',\n",
       " \"'\",\n",
       " \"'em\",\n",
       " 'together',\n",
       " '.',\n",
       " 'ARTHUR',\n",
       " ':',\n",
       " 'So',\n",
       " '?',\n",
       " 'We',\n",
       " 'have',\n",
       " 'ridden',\n",
       " 'since',\n",
       " 'the',\n",
       " 'snows',\n",
       " 'of',\n",
       " 'winter',\n",
       " 'covered',\n",
       " 'this',\n",
       " 'land',\n",
       " ',',\n",
       " 'through',\n",
       " 'the',\n",
       " 'kingdom',\n",
       " 'of',\n",
       " 'Mercea',\n",
       " ',',\n",
       " 'through',\n",
       " '--',\n",
       " 'SOLDIER',\n",
       " '#',\n",
       " '1',\n",
       " ':',\n",
       " 'Where',\n",
       " \"'d\",\n",
       " 'you',\n",
       " 'get',\n",
       " 'the',\n",
       " 'coconuts',\n",
       " '?',\n",
       " 'ARTHUR',\n",
       " ':',\n",
       " 'We',\n",
       " 'found',\n",
       " 'them',\n",
       " '.',\n",
       " 'SOLDIER',\n",
       " '#',\n",
       " '1',\n",
       " ':',\n",
       " 'Found',\n",
       " 'them',\n",
       " '?',\n",
       " 'In',\n",
       " 'Mercea',\n",
       " '?',\n",
       " 'The',\n",
       " 'coconut',\n",
       " \"'s\",\n",
       " 'tropical',\n",
       " '!',\n",
       " 'ARTHUR',\n",
       " ':',\n",
       " 'What',\n",
       " 'do',\n",
       " 'you',\n",
       " 'mean',\n",
       " '?',\n",
       " 'SOLDIER',\n",
       " '#',\n",
       " '1',\n",
       " ':',\n",
       " 'Well',\n",
       " ',',\n",
       " 'this',\n",
       " 'is',\n",
       " 'a',\n",
       " 'temperate',\n",
       " 'zone',\n",
       " '.',\n",
       " 'ARTHUR',\n",
       " ':',\n",
       " 'The',\n",
       " 'swallow',\n",
       " 'may',\n",
       " 'fly',\n",
       " 'south',\n",
       " 'with',\n",
       " 'the',\n",
       " 'sun',\n",
       " 'or',\n",
       " 'the',\n",
       " 'house',\n",
       " 'martin',\n",
       " 'or',\n",
       " 'the',\n",
       " 'plover',\n",
       " 'may',\n",
       " 'seek',\n",
       " 'warmer',\n",
       " 'climes',\n",
       " 'in',\n",
       " 'winter',\n",
       " ',',\n",
       " 'yet',\n",
       " 'these',\n",
       " 'are',\n",
       " 'not',\n",
       " 'strangers',\n",
       " 'to',\n",
       " 'our',\n",
       " 'land',\n",
       " '?',\n",
       " 'SOLDIER',\n",
       " '#',\n",
       " '1',\n",
       " ':',\n",
       " 'Are',\n",
       " 'you',\n",
       " 'suggesting',\n",
       " 'coconuts',\n",
       " 'migrate',\n",
       " '?',\n",
       " 'ARTHUR',\n",
       " ':',\n",
       " 'Not',\n",
       " 'at',\n",
       " 'all',\n",
       " '.',\n",
       " 'They',\n",
       " 'could',\n",
       " 'be',\n",
       " 'carried',\n",
       " '.',\n",
       " 'SOLDIER',\n",
       " '#',\n",
       " '1',\n",
       " ':',\n",
       " 'What',\n",
       " '?',\n",
       " 'A',\n",
       " 'swallow',\n",
       " 'carrying',\n",
       " 'a',\n",
       " 'coconut',\n",
       " '?',\n",
       " 'ARTHUR',\n",
       " ':',\n",
       " 'It',\n",
       " 'could',\n",
       " 'grip',\n",
       " 'it',\n",
       " 'by',\n",
       " 'the',\n",
       " 'husk',\n",
       " '!',\n",
       " 'SOLDIER',\n",
       " '#',\n",
       " '1',\n",
       " ':',\n",
       " 'It',\n",
       " \"'s\",\n",
       " 'not',\n",
       " 'a',\n",
       " 'question',\n",
       " 'of',\n",
       " 'where',\n",
       " 'he',\n",
       " 'grips',\n",
       " 'it',\n",
       " '!',\n",
       " 'It',\n",
       " \"'s\",\n",
       " 'a',\n",
       " 'simple',\n",
       " 'question',\n",
       " 'of',\n",
       " 'weight',\n",
       " 'ratios',\n",
       " '!',\n",
       " 'A',\n",
       " 'five',\n",
       " 'ounce',\n",
       " 'bird',\n",
       " 'could',\n",
       " 'not',\n",
       " 'carry',\n",
       " 'a',\n",
       " 'one',\n",
       " 'pound',\n",
       " 'coconut',\n",
       " '.',\n",
       " 'ARTHUR',\n",
       " ':',\n",
       " 'Well',\n",
       " ',',\n",
       " 'it',\n",
       " 'does',\n",
       " \"n't\",\n",
       " 'matter',\n",
       " '.',\n",
       " 'Will',\n",
       " 'you',\n",
       " 'go',\n",
       " 'and',\n",
       " 'tell',\n",
       " 'your',\n",
       " 'master',\n",
       " 'that',\n",
       " 'Arthur',\n",
       " 'from',\n",
       " 'the',\n",
       " 'Court',\n",
       " 'of',\n",
       " 'Camelot',\n",
       " 'is',\n",
       " 'here',\n",
       " '.',\n",
       " 'SOLDIER',\n",
       " '#',\n",
       " '1',\n",
       " ':',\n",
       " 'Listen',\n",
       " '.',\n",
       " 'In',\n",
       " 'order',\n",
       " 'to',\n",
       " 'maintain',\n",
       " 'air-speed',\n",
       " 'velocity',\n",
       " ',',\n",
       " 'a',\n",
       " 'swallow',\n",
       " 'needs',\n",
       " 'to',\n",
       " 'beat',\n",
       " 'its',\n",
       " 'wings',\n",
       " 'forty-three',\n",
       " 'times',\n",
       " 'every',\n",
       " 'second',\n",
       " ',',\n",
       " 'right',\n",
       " '?',\n",
       " 'ARTHUR',\n",
       " ':',\n",
       " 'Please',\n",
       " '!',\n",
       " 'SOLDIER',\n",
       " '#',\n",
       " '1',\n",
       " ':',\n",
       " 'Am',\n",
       " 'I',\n",
       " 'right',\n",
       " '?',\n",
       " 'ARTHUR',\n",
       " ':',\n",
       " 'I',\n",
       " \"'m\",\n",
       " 'not',\n",
       " 'interested',\n",
       " '!',\n",
       " 'SOLDIER',\n",
       " '#',\n",
       " '2',\n",
       " ':',\n",
       " 'It',\n",
       " 'could',\n",
       " 'be',\n",
       " 'carried',\n",
       " 'by',\n",
       " 'an',\n",
       " 'African',\n",
       " 'swallow',\n",
       " '!',\n",
       " 'SOLDIER',\n",
       " '#',\n",
       " '1',\n",
       " ':',\n",
       " 'Oh',\n",
       " ',',\n",
       " 'yeah',\n",
       " ',',\n",
       " 'an',\n",
       " 'African',\n",
       " 'swallow',\n",
       " 'maybe',\n",
       " ',',\n",
       " 'but',\n",
       " 'not',\n",
       " 'a',\n",
       " 'European',\n",
       " 'swallow',\n",
       " '.',\n",
       " 'That',\n",
       " \"'s\",\n",
       " 'my',\n",
       " 'point',\n",
       " '.',\n",
       " 'SOLDIER',\n",
       " '#',\n",
       " '2',\n",
       " ':',\n",
       " 'Oh',\n",
       " ',',\n",
       " 'yeah',\n",
       " ',',\n",
       " 'I',\n",
       " 'agree',\n",
       " 'with',\n",
       " 'that',\n",
       " '.',\n",
       " 'ARTHUR',\n",
       " ':',\n",
       " 'Will',\n",
       " 'you',\n",
       " 'ask',\n",
       " 'your',\n",
       " 'master',\n",
       " 'if',\n",
       " 'he',\n",
       " 'wants',\n",
       " 'to',\n",
       " 'join',\n",
       " 'my',\n",
       " 'court',\n",
       " 'at',\n",
       " 'Camelot',\n",
       " '?',\n",
       " '!',\n",
       " 'SOLDIER',\n",
       " '#',\n",
       " '1',\n",
       " ':',\n",
       " 'But',\n",
       " 'then',\n",
       " 'of',\n",
       " 'course',\n",
       " 'a',\n",
       " '--',\n",
       " 'African',\n",
       " 'swallows',\n",
       " 'are',\n",
       " 'non-migratory',\n",
       " '.',\n",
       " 'SOLDIER',\n",
       " '#',\n",
       " '2',\n",
       " ':',\n",
       " 'Oh',\n",
       " ',',\n",
       " 'yeah',\n",
       " '...',\n",
       " 'SOLDIER',\n",
       " '#',\n",
       " '1',\n",
       " ':',\n",
       " 'So',\n",
       " 'they',\n",
       " 'could',\n",
       " \"n't\",\n",
       " 'bring',\n",
       " 'a',\n",
       " 'coconut',\n",
       " 'back',\n",
       " 'anyway',\n",
       " '...',\n",
       " '[',\n",
       " 'clop',\n",
       " 'clop',\n",
       " 'clop',\n",
       " ']',\n",
       " 'SOLDIER',\n",
       " '#',\n",
       " '2',\n",
       " ':',\n",
       " 'Wait',\n",
       " 'a',\n",
       " 'minute',\n",
       " '!',\n",
       " 'Supposing',\n",
       " 'two',\n",
       " 'swallows',\n",
       " 'carried',\n",
       " 'it',\n",
       " 'together',\n",
       " '?',\n",
       " 'SOLDIER',\n",
       " '#',\n",
       " '1',\n",
       " ':',\n",
       " 'No',\n",
       " ',',\n",
       " 'they',\n",
       " \"'d\",\n",
       " 'have',\n",
       " 'to',\n",
       " 'have',\n",
       " 'it',\n",
       " 'on',\n",
       " 'a',\n",
       " 'line',\n",
       " '.',\n",
       " 'SOLDIER',\n",
       " '#',\n",
       " '2',\n",
       " ':',\n",
       " 'Well',\n",
       " ',',\n",
       " 'simple',\n",
       " '!',\n",
       " 'They',\n",
       " \"'d\",\n",
       " 'just',\n",
       " 'use',\n",
       " 'a',\n",
       " 'strand',\n",
       " 'of',\n",
       " 'creeper',\n",
       " '!',\n",
       " 'SOLDIER',\n",
       " '#',\n",
       " '1',\n",
       " ':',\n",
       " 'What',\n",
       " ',',\n",
       " 'held',\n",
       " 'under',\n",
       " 'the',\n",
       " 'dorsal',\n",
       " 'guiding',\n",
       " 'feathers',\n",
       " '?',\n",
       " 'SOLDIER',\n",
       " '#',\n",
       " '2',\n",
       " ':',\n",
       " 'Well',\n",
       " ',',\n",
       " 'why',\n",
       " 'not',\n",
       " '?']"
      ]
     },
     "execution_count": 90,
     "metadata": {},
     "output_type": "execute_result"
    }
   ],
   "source": [
    "tokens"
   ]
  },
  {
   "cell_type": "code",
   "execution_count": 94,
   "id": "2418e05d-4f09-4abb-97d9-6fa3754397ff",
   "metadata": {},
   "outputs": [
    {
     "name": "stdout",
     "output_type": "stream",
     "text": [
      "Time taken for stemming in seconds:  0.0026874542236328125\n",
      "Stemmed tokens:  ['scene', '1', ':', '[', 'wind', ']', '[', 'clop', 'clop', 'clop', ']', 'king', 'arthur', ':', 'whoa', 'there', '!', '[', 'clop', 'clop', 'clop', ']', 'soldier', '#', '1', ':', 'halt', '!', 'who', 'goe', 'there', '?', 'arthur', ':', 'it', 'is', 'i', ',', 'arthur', ',', 'son', 'of', 'uther', 'pendragon', ',', 'from', 'the', 'castl', 'of', 'camelot', '.', 'king', 'of', 'the', 'briton', ',', 'defeat', 'of', 'the', 'saxon', ',', 'sovereign', 'of', 'all', 'england', '!', 'soldier', '#', '1', ':', 'pull', 'the', 'other', 'one', '!', 'arthur', ':', 'i', 'am', ',', '...', 'and', 'thi', 'is', 'my', 'trusti', 'servant', 'patsi', '.', 'we', 'have', 'ridden', 'the', 'length', 'and', 'breadth', 'of', 'the', 'land', 'in', 'search', 'of', 'knight', 'who', 'will', 'join', 'me', 'in', 'my', 'court', 'at', 'camelot', '.', 'i', 'must', 'speak', 'with', 'your', 'lord', 'and', 'master', '.', 'soldier', '#', '1', ':', 'what', '?', 'ridden', 'on', 'a', 'hors', '?', 'arthur', ':', 'ye', '!', 'soldier', '#', '1', ':', 'you', \"'re\", 'use', 'coconut', '!', 'arthur', ':', 'what', '?', 'soldier', '#', '1', ':', 'you', \"'ve\", 'got', 'two', 'empti', 'halv', 'of', 'coconut', 'and', 'you', \"'re\", 'bangin', \"'\", \"'em\", 'togeth', '.', 'arthur', ':', 'so', '?', 'we', 'have', 'ridden', 'sinc', 'the', 'snow', 'of', 'winter', 'cover', 'thi', 'land', ',', 'through', 'the', 'kingdom', 'of', 'mercea', ',', 'through', '--', 'soldier', '#', '1', ':', 'where', \"'d\", 'you', 'get', 'the', 'coconut', '?', 'arthur', ':', 'we', 'found', 'them', '.', 'soldier', '#', '1', ':', 'found', 'them', '?', 'in', 'mercea', '?', 'the', 'coconut', \"'s\", 'tropic', '!', 'arthur', ':', 'what', 'do', 'you', 'mean', '?', 'soldier', '#', '1', ':', 'well', ',', 'thi', 'is', 'a', 'temper', 'zone', '.', 'arthur', ':', 'the', 'swallow', 'may', 'fli', 'south', 'with', 'the', 'sun', 'or', 'the', 'hous', 'martin', 'or', 'the', 'plover', 'may', 'seek', 'warmer', 'clime', 'in', 'winter', ',', 'yet', 'these', 'are', 'not', 'stranger', 'to', 'our', 'land', '?', 'soldier', '#', '1', ':', 'are', 'you', 'suggest', 'coconut', 'migrat', '?', 'arthur', ':', 'not', 'at', 'all', '.', 'they', 'could', 'be', 'carri', '.', 'soldier', '#', '1', ':', 'what', '?', 'a', 'swallow', 'carri', 'a', 'coconut', '?', 'arthur', ':', 'it', 'could', 'grip', 'it', 'by', 'the', 'husk', '!', 'soldier', '#', '1', ':', 'it', \"'s\", 'not', 'a', 'question', 'of', 'where', 'he', 'grip', 'it', '!', 'it', \"'s\", 'a', 'simpl', 'question', 'of', 'weight', 'ratio', '!', 'a', 'five', 'ounc', 'bird', 'could', 'not', 'carri', 'a', 'one', 'pound', 'coconut', '.', 'arthur', ':', 'well', ',', 'it', 'doe', \"n't\", 'matter', '.', 'will', 'you', 'go', 'and', 'tell', 'your', 'master', 'that', 'arthur', 'from', 'the', 'court', 'of', 'camelot', 'is', 'here', '.', 'soldier', '#', '1', ':', 'listen', '.', 'in', 'order', 'to', 'maintain', 'air-spe', 'veloc', ',', 'a', 'swallow', 'need', 'to', 'beat', 'it', 'wing', 'forty-thre', 'time', 'everi', 'second', ',', 'right', '?', 'arthur', ':', 'pleas', '!', 'soldier', '#', '1', ':', 'am', 'i', 'right', '?', 'arthur', ':', 'i', \"'m\", 'not', 'interest', '!', 'soldier', '#', '2', ':', 'it', 'could', 'be', 'carri', 'by', 'an', 'african', 'swallow', '!', 'soldier', '#', '1', ':', 'oh', ',', 'yeah', ',', 'an', 'african', 'swallow', 'mayb', ',', 'but', 'not', 'a', 'european', 'swallow', '.', 'that', \"'s\", 'my', 'point', '.', 'soldier', '#', '2', ':', 'oh', ',', 'yeah', ',', 'i', 'agre', 'with', 'that', '.', 'arthur', ':', 'will', 'you', 'ask', 'your', 'master', 'if', 'he', 'want', 'to', 'join', 'my', 'court', 'at', 'camelot', '?', '!', 'soldier', '#', '1', ':', 'but', 'then', 'of', 'cours', 'a', '--', 'african', 'swallow', 'are', 'non-migratori', '.', 'soldier', '#', '2', ':', 'oh', ',', 'yeah', '...', 'soldier', '#', '1', ':', 'so', 'they', 'could', \"n't\", 'bring', 'a', 'coconut', 'back', 'anyway', '...', '[', 'clop', 'clop', 'clop', ']', 'soldier', '#', '2', ':', 'wait', 'a', 'minut', '!', 'suppos', 'two', 'swallow', 'carri', 'it', 'togeth', '?', 'soldier', '#', '1', ':', 'no', ',', 'they', \"'d\", 'have', 'to', 'have', 'it', 'on', 'a', 'line', '.', 'soldier', '#', '2', ':', 'well', ',', 'simpl', '!', 'they', \"'d\", 'just', 'use', 'a', 'strand', 'of', 'creeper', '!', 'soldier', '#', '1', ':', 'what', ',', 'held', 'under', 'the', 'dorsal', 'guid', 'feather', '?', 'soldier', '#', '2', ':', 'well', ',', 'whi', 'not', '?']\n"
     ]
    }
   ],
   "source": [
    "import time\n",
    "\n",
    "# Log the start time\n",
    "start_time = time.time()\n",
    "\n",
    "# Build a stemmed list\n",
    "stemmed_tokens = [porter.stem(token) for token in tokens] \n",
    "\n",
    "# Log the end time\n",
    "end_time = time.time()\n",
    "\n",
    "print('Time taken for stemming in seconds: ', end_time - start_time)\n",
    "print('Stemmed tokens: ', stemmed_tokens) "
   ]
  },
  {
   "cell_type": "code",
   "execution_count": 95,
   "id": "c05cace1-bc01-4e7b-804a-38a696c0a493",
   "metadata": {},
   "outputs": [
    {
     "name": "stdout",
     "output_type": "stream",
     "text": [
      "Time taken for lemmatizing in seconds:  2.4541826248168945\n",
      "Lemmatized tokens:  ['SCENE', '1', ':', '[', 'wind', ']', '[', 'clop', 'clop', 'clop', ']', 'KING', 'ARTHUR', ':', 'Whoa', 'there', '!', '[', 'clop', 'clop', 'clop', ']', 'SOLDIER', '#', '1', ':', 'Halt', '!', 'Who', 'go', 'there', '?', 'ARTHUR', ':', 'It', 'is', 'I', ',', 'Arthur', ',', 'son', 'of', 'Uther', 'Pendragon', ',', 'from', 'the', 'castle', 'of', 'Camelot', '.', 'King', 'of', 'the', 'Britons', ',', 'defeator', 'of', 'the', 'Saxons', ',', 'sovereign', 'of', 'all', 'England', '!', 'SOLDIER', '#', '1', ':', 'Pull', 'the', 'other', 'one', '!', 'ARTHUR', ':', 'I', 'am', ',', '...', 'and', 'this', 'is', 'my', 'trusty', 'servant', 'Patsy', '.', 'We', 'have', 'ridden', 'the', 'length', 'and', 'breadth', 'of', 'the', 'land', 'in', 'search', 'of', 'knight', 'who', 'will', 'join', 'me', 'in', 'my', 'court', 'at', 'Camelot', '.', 'I', 'must', 'speak', 'with', 'your', 'lord', 'and', 'master', '.', 'SOLDIER', '#', '1', ':', 'What', '?', 'Ridden', 'on', 'a', 'horse', '?', 'ARTHUR', ':', 'Yes', '!', 'SOLDIER', '#', '1', ':', 'You', \"'re\", 'using', 'coconut', '!', 'ARTHUR', ':', 'What', '?', 'SOLDIER', '#', '1', ':', 'You', \"'ve\", 'got', 'two', 'empty', 'half', 'of', 'coconut', 'and', 'you', \"'re\", 'bangin', \"'\", \"'em\", 'together', '.', 'ARTHUR', ':', 'So', '?', 'We', 'have', 'ridden', 'since', 'the', 'snow', 'of', 'winter', 'covered', 'this', 'land', ',', 'through', 'the', 'kingdom', 'of', 'Mercea', ',', 'through', '--', 'SOLDIER', '#', '1', ':', 'Where', \"'d\", 'you', 'get', 'the', 'coconut', '?', 'ARTHUR', ':', 'We', 'found', 'them', '.', 'SOLDIER', '#', '1', ':', 'Found', 'them', '?', 'In', 'Mercea', '?', 'The', 'coconut', \"'s\", 'tropical', '!', 'ARTHUR', ':', 'What', 'do', 'you', 'mean', '?', 'SOLDIER', '#', '1', ':', 'Well', ',', 'this', 'is', 'a', 'temperate', 'zone', '.', 'ARTHUR', ':', 'The', 'swallow', 'may', 'fly', 'south', 'with', 'the', 'sun', 'or', 'the', 'house', 'martin', 'or', 'the', 'plover', 'may', 'seek', 'warmer', 'clime', 'in', 'winter', ',', 'yet', 'these', 'are', 'not', 'stranger', 'to', 'our', 'land', '?', 'SOLDIER', '#', '1', ':', 'Are', 'you', 'suggesting', 'coconut', 'migrate', '?', 'ARTHUR', ':', 'Not', 'at', 'all', '.', 'They', 'could', 'be', 'carried', '.', 'SOLDIER', '#', '1', ':', 'What', '?', 'A', 'swallow', 'carrying', 'a', 'coconut', '?', 'ARTHUR', ':', 'It', 'could', 'grip', 'it', 'by', 'the', 'husk', '!', 'SOLDIER', '#', '1', ':', 'It', \"'s\", 'not', 'a', 'question', 'of', 'where', 'he', 'grip', 'it', '!', 'It', \"'s\", 'a', 'simple', 'question', 'of', 'weight', 'ratio', '!', 'A', 'five', 'ounce', 'bird', 'could', 'not', 'carry', 'a', 'one', 'pound', 'coconut', '.', 'ARTHUR', ':', 'Well', ',', 'it', 'doe', \"n't\", 'matter', '.', 'Will', 'you', 'go', 'and', 'tell', 'your', 'master', 'that', 'Arthur', 'from', 'the', 'Court', 'of', 'Camelot', 'is', 'here', '.', 'SOLDIER', '#', '1', ':', 'Listen', '.', 'In', 'order', 'to', 'maintain', 'air-speed', 'velocity', ',', 'a', 'swallow', 'need', 'to', 'beat', 'it', 'wing', 'forty-three', 'time', 'every', 'second', ',', 'right', '?', 'ARTHUR', ':', 'Please', '!', 'SOLDIER', '#', '1', ':', 'Am', 'I', 'right', '?', 'ARTHUR', ':', 'I', \"'m\", 'not', 'interested', '!', 'SOLDIER', '#', '2', ':', 'It', 'could', 'be', 'carried', 'by', 'an', 'African', 'swallow', '!', 'SOLDIER', '#', '1', ':', 'Oh', ',', 'yeah', ',', 'an', 'African', 'swallow', 'maybe', ',', 'but', 'not', 'a', 'European', 'swallow', '.', 'That', \"'s\", 'my', 'point', '.', 'SOLDIER', '#', '2', ':', 'Oh', ',', 'yeah', ',', 'I', 'agree', 'with', 'that', '.', 'ARTHUR', ':', 'Will', 'you', 'ask', 'your', 'master', 'if', 'he', 'want', 'to', 'join', 'my', 'court', 'at', 'Camelot', '?', '!', 'SOLDIER', '#', '1', ':', 'But', 'then', 'of', 'course', 'a', '--', 'African', 'swallow', 'are', 'non-migratory', '.', 'SOLDIER', '#', '2', ':', 'Oh', ',', 'yeah', '...', 'SOLDIER', '#', '1', ':', 'So', 'they', 'could', \"n't\", 'bring', 'a', 'coconut', 'back', 'anyway', '...', '[', 'clop', 'clop', 'clop', ']', 'SOLDIER', '#', '2', ':', 'Wait', 'a', 'minute', '!', 'Supposing', 'two', 'swallow', 'carried', 'it', 'together', '?', 'SOLDIER', '#', '1', ':', 'No', ',', 'they', \"'d\", 'have', 'to', 'have', 'it', 'on', 'a', 'line', '.', 'SOLDIER', '#', '2', ':', 'Well', ',', 'simple', '!', 'They', \"'d\", 'just', 'use', 'a', 'strand', 'of', 'creeper', '!', 'SOLDIER', '#', '1', ':', 'What', ',', 'held', 'under', 'the', 'dorsal', 'guiding', 'feather', '?', 'SOLDIER', '#', '2', ':', 'Well', ',', 'why', 'not', '?']\n"
     ]
    }
   ],
   "source": [
    "import time\n",
    "\n",
    "# Log the start time\n",
    "start_time = time.time()\n",
    "\n",
    "# Build a lemmatized list\n",
    "lem_tokens = [WNlemmatizer.lemmatize(token) for token in tokens]\n",
    "\n",
    "# Log the end time\n",
    "end_time = time.time()\n",
    "\n",
    "print('Time taken for lemmatizing in seconds: ', end_time - start_time)\n",
    "print('Lemmatized tokens: ', lem_tokens) "
   ]
  },
  {
   "cell_type": "markdown",
   "id": "94568abe-204c-43d0-9a52-463e42a6dc99",
   "metadata": {},
   "source": [
    "## Stemming non english data"
   ]
  },
  {
   "cell_type": "code",
   "execution_count": 105,
   "id": "ae018453-79bd-462c-8acd-a8bb56e4f9f0",
   "metadata": {},
   "outputs": [
    {
     "name": "stdout",
     "output_type": "stream",
     "text": [
      "   review_id                                        review_text\n",
      "0          1            Este producto es increíble, me encanta.\n",
      "1          2                This product is amazing, I love it.\n",
      "2          3             Ce produit est incroyable, je l'adore.\n",
      "3          4         Me gusta mucho este artículo, es muy útil.\n",
      "4          5  Dieses Produkt ist fantastisch, ich bin begeis...\n",
      "5          6  Producto de buena calidad, cumple con las expe...\n",
      "6          7     Il prodotto è di ottima qualità, lo consiglio.\n",
      "7          8  Producto excelente, llegó a tiempo y en perfec...\n",
      "8          9    J'adore ce produit, il fonctionne parfaitement.\n",
      "9         10        Es un buen producto, pero podría ser mejor.\n"
     ]
    }
   ],
   "source": [
    "import pandas as pd\n",
    "# Specify the path to your CSV file\n",
    "file_path = 'mixedlnaguage.csv'\n",
    "\n",
    "# Load the dataset into a Pandas DataFrame\n",
    "non_english_reviews = pd.read_csv(file_path)\n",
    "\n",
    "# Display the DataFrame\n",
    "print(non_english_reviews)"
   ]
  },
  {
   "cell_type": "code",
   "execution_count": 108,
   "id": "1e6f87ba-d8c6-4e64-b490-99f50165912b",
   "metadata": {},
   "outputs": [],
   "source": [
    "# Import the language detection package\n",
    "import langdetect"
   ]
  },
  {
   "cell_type": "code",
   "execution_count": 109,
   "id": "379b36dd-42a3-4ecb-b5b8-96f187c4b59e",
   "metadata": {},
   "outputs": [],
   "source": [
    "# Loop over the rows of the dataset and append  \n",
    "languages = [] \n",
    "for i in range(len(non_english_reviews)):\n",
    "    languages.append(langdetect.detect_langs(non_english_reviews.iloc[i, 1]))"
   ]
  },
  {
   "cell_type": "code",
   "execution_count": 110,
   "id": "0b6a55f0-9ae4-4a85-9499-e7d5448c377e",
   "metadata": {},
   "outputs": [],
   "source": [
    "# Clean the list by splitting     \n",
    "languages = [str(lang).split(':')[0][1:] for lang in languages]\n",
    "# Assign the list to a new feature \n",
    "non_english_reviews['language'] = languages"
   ]
  },
  {
   "cell_type": "code",
   "execution_count": 111,
   "id": "99d590eb-9635-4ca2-87dc-0a7b938b29bd",
   "metadata": {},
   "outputs": [
    {
     "data": {
      "text/html": [
       "<div>\n",
       "<style scoped>\n",
       "    .dataframe tbody tr th:only-of-type {\n",
       "        vertical-align: middle;\n",
       "    }\n",
       "\n",
       "    .dataframe tbody tr th {\n",
       "        vertical-align: top;\n",
       "    }\n",
       "\n",
       "    .dataframe thead th {\n",
       "        text-align: right;\n",
       "    }\n",
       "</style>\n",
       "<table border=\"1\" class=\"dataframe\">\n",
       "  <thead>\n",
       "    <tr style=\"text-align: right;\">\n",
       "      <th></th>\n",
       "      <th>review_id</th>\n",
       "      <th>review_text</th>\n",
       "      <th>language</th>\n",
       "    </tr>\n",
       "  </thead>\n",
       "  <tbody>\n",
       "    <tr>\n",
       "      <th>0</th>\n",
       "      <td>1</td>\n",
       "      <td>Este producto es increíble, me encanta.</td>\n",
       "      <td>es</td>\n",
       "    </tr>\n",
       "    <tr>\n",
       "      <th>3</th>\n",
       "      <td>4</td>\n",
       "      <td>Me gusta mucho este artículo, es muy útil.</td>\n",
       "      <td>es</td>\n",
       "    </tr>\n",
       "    <tr>\n",
       "      <th>5</th>\n",
       "      <td>6</td>\n",
       "      <td>Producto de buena calidad, cumple con las expe...</td>\n",
       "      <td>es</td>\n",
       "    </tr>\n",
       "    <tr>\n",
       "      <th>7</th>\n",
       "      <td>8</td>\n",
       "      <td>Producto excelente, llegó a tiempo y en perfec...</td>\n",
       "      <td>es</td>\n",
       "    </tr>\n",
       "    <tr>\n",
       "      <th>9</th>\n",
       "      <td>10</td>\n",
       "      <td>Es un buen producto, pero podría ser mejor.</td>\n",
       "      <td>es</td>\n",
       "    </tr>\n",
       "  </tbody>\n",
       "</table>\n",
       "</div>"
      ],
      "text/plain": [
       "   review_id                                        review_text language\n",
       "0          1            Este producto es increíble, me encanta.       es\n",
       "3          4         Me gusta mucho este artículo, es muy útil.       es\n",
       "5          6  Producto de buena calidad, cumple con las expe...       es\n",
       "7          8  Producto excelente, llegó a tiempo y en perfec...       es\n",
       "9         10        Es un buen producto, pero podría ser mejor.       es"
      ]
     },
     "execution_count": 111,
     "metadata": {},
     "output_type": "execute_result"
    }
   ],
   "source": [
    "# Select the Spanish ones\n",
    "filtered_reviews = non_english_reviews[non_english_reviews.language == 'es']\n",
    "filtered_reviews"
   ]
  },
  {
   "cell_type": "code",
   "execution_count": 116,
   "id": "9ef01e71-7a36-4597-a07d-9713db07fda9",
   "metadata": {},
   "outputs": [],
   "source": [
    "# Import the required packages\n",
    "from nltk.stem.snowball import SnowballStemmer"
   ]
  },
  {
   "cell_type": "code",
   "execution_count": 113,
   "id": "07932fb8-536a-4097-9519-6e7a38fdb485",
   "metadata": {},
   "outputs": [],
   "source": [
    "# Import the Spanish SnowballStemmer\n",
    "SpanishStemmer = SnowballStemmer(\"spanish\")"
   ]
  },
  {
   "cell_type": "code",
   "execution_count": 114,
   "id": "c7309bce-c754-4c1a-8615-2619e5b13936",
   "metadata": {},
   "outputs": [],
   "source": [
    "# Create a list of tokens\n",
    "tokens = [word_tokenize(review) for review in filtered_reviews.review_text] "
   ]
  },
  {
   "cell_type": "code",
   "execution_count": 115,
   "id": "1a144b60-a162-4427-9d55-a2a76a70d9a0",
   "metadata": {},
   "outputs": [
    {
     "name": "stdout",
     "output_type": "stream",
     "text": [
      "['este', 'product', 'es', 'increibl', ',', 'me', 'encant', '.']\n"
     ]
    }
   ],
   "source": [
    "# Stem the list of tokens\n",
    "stemmed_tokens = [[SpanishStemmer.stem(word) for word in token] for token in tokens]\n",
    "print(stemmed_tokens[0])"
   ]
  },
  {
   "cell_type": "markdown",
   "id": "da3d508e-be1b-4718-b47b-b76c8deea5a3",
   "metadata": {},
   "source": [
    "# Part of speech tagging"
   ]
  },
  {
   "cell_type": "markdown",
   "id": "3a5de9a4-7102-4698-a7cf-5d4c6ea7602e",
   "metadata": {},
   "source": [
    "## POS tagging using spaCy"
   ]
  },
  {
   "cell_type": "code",
   "execution_count": 120,
   "id": "777ef27e-3ab6-4396-94ca-2ecd7dae813b",
   "metadata": {},
   "outputs": [],
   "source": [
    "#import the needed library\n",
    "import spacy"
   ]
  },
  {
   "cell_type": "code",
   "execution_count": 125,
   "id": "ca140836-ec03-4019-95ef-881b3a8e0faa",
   "metadata": {},
   "outputs": [],
   "source": [
    "#Load the en_core_web_sm model\n",
    "#!python3 -m spacy download en_core_web_sm use this command if you didn't find the model\n",
    "nlp = spacy.load('en_core_web_sm')"
   ]
  },
  {
   "cell_type": "code",
   "execution_count": 126,
   "id": "a03c7bea-3ed8-4b28-9fc3-3aa15b56e0ff",
   "metadata": {},
   "outputs": [],
   "source": [
    "#Initiliaze string\n",
    "string= \"Jane is an amazing guitartist\""
   ]
  },
  {
   "cell_type": "code",
   "execution_count": 127,
   "id": "447d33bb-f047-414b-a23d-4ae4998d0dd8",
   "metadata": {},
   "outputs": [],
   "source": [
    "#Create a doc object\n",
    "doc=nlp(string)"
   ]
  },
  {
   "cell_type": "code",
   "execution_count": 133,
   "id": "d431772b-7cdc-4e60-b322-3b5ed264c2c9",
   "metadata": {},
   "outputs": [
    {
     "name": "stdout",
     "output_type": "stream",
     "text": [
      "[('Jane', 'PROPN'), ('is', 'AUX'), ('an', 'DET'), ('amazing', 'ADJ'), ('guitartist', 'NOUN')]\n"
     ]
    }
   ],
   "source": [
    " # Generate list of tokens and pos tags\n",
    "pos=[(token.text, token.pos_) for token in doc]\n",
    "print(pos)"
   ]
  },
  {
   "cell_type": "code",
   "execution_count": null,
   "id": "5c0f7c0d-0dcc-4978-99c0-615924094433",
   "metadata": {},
   "outputs": [],
   "source": []
  },
  {
   "cell_type": "code",
   "execution_count": null,
   "id": "90b5c367-0b93-4d50-b1c2-d7aa552b5731",
   "metadata": {},
   "outputs": [],
   "source": []
  }
 ],
 "metadata": {
  "kernelspec": {
   "display_name": "Python 3 (ipykernel)",
   "language": "python",
   "name": "python3"
  },
  "language_info": {
   "codemirror_mode": {
    "name": "ipython",
    "version": 3
   },
   "file_extension": ".py",
   "mimetype": "text/x-python",
   "name": "python",
   "nbconvert_exporter": "python",
   "pygments_lexer": "ipython3",
   "version": "3.8.10"
  }
 },
 "nbformat": 4,
 "nbformat_minor": 5
}
